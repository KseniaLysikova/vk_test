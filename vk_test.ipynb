{
  "nbformat": 4,
  "nbformat_minor": 0,
  "metadata": {
    "colab": {
      "provenance": [],
      "gpuType": "T4"
    },
    "kernelspec": {
      "name": "python3",
      "display_name": "Python 3"
    },
    "language_info": {
      "name": "python"
    },
    "accelerator": "GPU"
  },
  "cells": [
    {
      "cell_type": "markdown",
      "source": [
        "Для поиска интро я предлагаю следующий подход:<br>\n",
        "Аудио и видео разбивается на фреймы определенного интервала, из этих фреймов получаем эмбеддинги (по отдельности), эти эмбеддинги объединяются и подаются в предиктор, например, простую CNN.<br>\n",
        "В итоге, получаем вероятности быть интро для всех кадров.<br>"
      ],
      "metadata": {
        "id": "x9cEC-8F4N2D"
      }
    },
    {
      "cell_type": "code",
      "source": [
        "import cv2\n",
        "import torch\n",
        "import torch.nn as nn\n",
        "import numpy as np\n",
        "import librosa\n",
        "from transformers import AutoProcessor, AutoModel\n",
        "import torchvision.transforms as T\n",
        "from PIL import Image"
      ],
      "metadata": {
        "id": "boRWY5DkykYv"
      },
      "execution_count": 48,
      "outputs": []
    },
    {
      "cell_type": "markdown",
      "source": [
        "Функция для получения фреймов"
      ],
      "metadata": {
        "id": "tIIe3sTw5s6l"
      }
    },
    {
      "cell_type": "code",
      "source": [
        "def extract_video_frames(video_path, frame_duration=1.0):\n",
        "    cap = cv2.VideoCapture(video_path)\n",
        "    fps = cap.get(cv2.CAP_PROP_FPS)\n",
        "    total_frames = int(cap.get(cv2.CAP_PROP_FRAME_COUNT))\n",
        "    video_duration = total_frames / fps\n",
        "\n",
        "    frames = []\n",
        "    timestamps = []\n",
        "\n",
        "    current_time = 0.0\n",
        "    while current_time < video_duration:\n",
        "        cap.set(cv2.CAP_PROP_POS_MSEC, current_time * 1000)\n",
        "        ret, frame = cap.read()\n",
        "        if not ret:\n",
        "            break\n",
        "        frames.append(frame)\n",
        "        timestamps.append(current_time)\n",
        "        current_time += frame_duration\n",
        "\n",
        "    cap.release()\n",
        "\n",
        "    audio, sr = librosa.load(video_path, sr=16000)\n",
        "    audio_chunks = []\n",
        "    for ts in timestamps:\n",
        "        start_sample = int(ts * sr)\n",
        "        end_sample = int((ts + frame_duration) * sr)\n",
        "        chunk = audio[start_sample:end_sample]\n",
        "        chunk = librosa.util.fix_length(chunk, size=int(frame_duration * sr))\n",
        "        audio_chunks.append(chunk)\n",
        "\n",
        "    return frames, audio_chunks, timestamps\n"
      ],
      "metadata": {
        "id": "4qEZ1hAXynnB"
      },
      "execution_count": 39,
      "outputs": []
    },
    {
      "cell_type": "code",
      "source": [
        "frames, audio_chunks, timestamps = extract_video_frames(\"/content/-220020068_456249220.mp4\")"
      ],
      "metadata": {
        "colab": {
          "base_uri": "https://localhost:8080/"
        },
        "id": "SB8biqRryuxY",
        "outputId": "64d6e37b-5509-4de6-82b3-c1a90ba2dae8"
      },
      "execution_count": 40,
      "outputs": [
        {
          "output_type": "stream",
          "name": "stderr",
          "text": [
            "<ipython-input-39-302975361>:22: UserWarning: PySoundFile failed. Trying audioread instead.\n",
            "  audio, sr = librosa.load(video_path, sr=16000)\n",
            "/usr/local/lib/python3.11/dist-packages/librosa/core/audio.py:184: FutureWarning: librosa.core.audio.__audioread_load\n",
            "\tDeprecated as of librosa version 0.10.0.\n",
            "\tIt will be removed in librosa version 1.0.\n",
            "  y, sr_native = __audioread_load(path, offset, duration, dtype)\n"
          ]
        }
      ]
    },
    {
      "cell_type": "code",
      "source": [
        "import matplotlib.pyplot as plt\n",
        "\n",
        "fig, axs = plt.subplots(2, 3, figsize=(8, 5))\n",
        "for i, ax in enumerate(axs.flat):\n",
        "    ax.imshow(frames[i])\n",
        "    ax.axis('off')\n",
        "\n",
        "plt.show()"
      ],
      "metadata": {
        "colab": {
          "base_uri": "https://localhost:8080/",
          "height": 349
        },
        "id": "mN6prEOIz8qO",
        "outputId": "cc093c02-7690-45a2-da14-4e4d31b2a616"
      },
      "execution_count": 41,
      "outputs": [
        {
          "output_type": "display_data",
          "data": {
            "text/plain": [
              "<Figure size 800x500 with 6 Axes>"
            ],
            "image/png": "[encoded data removed]"
          },
          "metadata": {}
        }
      ]
    },
    {
      "cell_type": "code",
      "source": [
        "device = torch.device(\"cuda\" if torch.cuda.is_available() else \"cpu\")"
      ],
      "metadata": {
        "id": "G4Xa4keI1syN"
      },
      "execution_count": 42,
      "outputs": []
    },
    {
      "cell_type": "markdown",
      "source": [
        "Получение видео эмбеддингов с помощью dinov2, аудио - MFCC"
      ],
      "metadata": {
        "id": "JxSl7DBh5zbz"
      }
    },
    {
      "cell_type": "code",
      "execution_count": 43,
      "metadata": {
        "id": "K8uEueC8pYAS"
      },
      "outputs": [],
      "source": [
        "processor = AutoProcessor.from_pretrained(\"facebook/dinov2-base\")\n",
        "model = AutoModel.from_pretrained(\"facebook/dinov2-base\").to(device).eval()\n",
        "\n",
        "transform = T.Compose([\n",
        "    T.Resize(224),\n",
        "    T.CenterCrop(224),\n",
        "    T.ToTensor(),\n",
        "    T.Normalize([0.485, 0.456, 0.406], [0.229, 0.224, 0.225])\n",
        "])\n",
        "\n",
        "def get_video_embedding(frame: np.ndarray) -> np.ndarray:\n",
        "    image = Image.fromarray(cv2.cvtColor(frame, cv2.COLOR_BGR2RGB))\n",
        "    inputs = transform(image).unsqueeze(0).to(device)\n",
        "    with torch.no_grad():\n",
        "        outputs = model(inputs)\n",
        "        embedding = outputs.last_hidden_state.mean(dim=1).squeeze()\n",
        "    return embedding.cpu().numpy()\n",
        "\n",
        "def get_audio_embedding(audio, sr=16000):\n",
        "    mfcc = librosa.feature.mfcc(y=audio, sr=sr, n_mfcc=20)\n",
        "    return np.mean(mfcc, axis=1)"
      ]
    },
    {
      "cell_type": "code",
      "source": [
        "video_embs = [get_video_embedding(frame) for frame in frames]\n",
        "audio_embs = [get_audio_embedding(audio) for audio in audio_chunks]"
      ],
      "metadata": {
        "id": "ybKmTg8G1Sz4"
      },
      "execution_count": 44,
      "outputs": []
    },
    {
      "cell_type": "code",
      "source": [
        "video_embs[0].shape, audio_embs[0].shape"
      ],
      "metadata": {
        "colab": {
          "base_uri": "https://localhost:8080/"
        },
        "id": "gDuE3rPP2MDx",
        "outputId": "405763fd-58bb-4e8b-87da-318fb71ad8e1"
      },
      "execution_count": 45,
      "outputs": [
        {
          "output_type": "execute_result",
          "data": {
            "text/plain": [
              "((768,), (20,))"
            ]
          },
          "metadata": {},
          "execution_count": 45
        }
      ]
    },
    {
      "cell_type": "markdown",
      "source": [
        "Конкатенирую эмбеддинги"
      ],
      "metadata": {
        "id": "e5jwx_zp6O4N"
      }
    },
    {
      "cell_type": "code",
      "source": [
        "features = []\n",
        "for v_emb, a_emb in zip(video_embs, audio_embs):\n",
        "        vec = np.concatenate([v_emb, a_emb])\n",
        "        features.append(vec)\n",
        "features = torch.tensor(np.array(features), dtype=torch.float32).unsqueeze(0)"
      ],
      "metadata": {
        "id": "62EEHgrQ21d8"
      },
      "execution_count": 46,
      "outputs": []
    },
    {
      "cell_type": "code",
      "source": [
        "features.shape"
      ],
      "metadata": {
        "colab": {
          "base_uri": "https://localhost:8080/"
        },
        "id": "Lg-Tcw-Q2dGh",
        "outputId": "5206ddc6-5e45-4a22-9188-dc1fa8780f21"
      },
      "execution_count": 47,
      "outputs": [
        {
          "output_type": "execute_result",
          "data": {
            "text/plain": [
              "torch.Size([1, 1002, 788])"
            ]
          },
          "metadata": {},
          "execution_count": 47
        }
      ]
    },
    {
      "cell_type": "markdown",
      "source": [
        "Простая сверточная нейронная сеть"
      ],
      "metadata": {
        "id": "OucRiY6S6VEg"
      }
    },
    {
      "cell_type": "code",
      "source": [
        "class IntroPredictor(nn.Module):\n",
        "    def __init__(self, input_dim, hidden_dim=64):\n",
        "        super().__init__()\n",
        "        self.net = nn.Sequential(\n",
        "            nn.Conv1d(input_dim, hidden_dim, kernel_size=3, padding=1),\n",
        "            nn.ReLU(),\n",
        "            nn.Conv1d(hidden_dim, 1, kernel_size=1),\n",
        "            nn.Sigmoid()\n",
        "        )\n",
        "\n",
        "    def forward(self, x):\n",
        "        x = x.transpose(1, 2)\n",
        "        x = self.net(x)\n",
        "        return x.squeeze(1)\n"
      ],
      "metadata": {
        "id": "9EMLML9I3Nlc"
      },
      "execution_count": 49,
      "outputs": []
    },
    {
      "cell_type": "markdown",
      "source": [
        "Датасет не маленький, так что для примера я проинференсила полученную фичу"
      ],
      "metadata": {
        "id": "fY1P0LjY6gHz"
      }
    },
    {
      "cell_type": "code",
      "source": [
        "model = IntroPredictor(features.shape[2])\n",
        "model.eval()\n",
        "\n",
        "with torch.no_grad():\n",
        "    out = model(features)"
      ],
      "metadata": {
        "id": "1-6ma3E-3dOv"
      },
      "execution_count": 50,
      "outputs": []
    },
    {
      "cell_type": "code",
      "source": [
        "out"
      ],
      "metadata": {
        "colab": {
          "base_uri": "https://localhost:8080/"
        },
        "id": "X9xBwfZt3-xK",
        "outputId": "a273117e-c437-492b-f86a-a6685878f623"
      },
      "execution_count": 51,
      "outputs": [
        {
          "output_type": "execute_result",
          "data": {
            "text/plain": [
              "tensor([[0.6250, 0.5934, 0.8102,  ..., 0.6557, 0.6861, 0.6970]])"
            ]
          },
          "metadata": {},
          "execution_count": 51
        }
      ]
    }
  ]
}